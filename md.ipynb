{
  "cells": [
    {
      "cell_type": "markdown",
      "metadata": {
        "colab_type": "text",
        "id": "view-in-github"
      },
      "source": [
        "<a href=\"https://colab.research.google.com/github/stfc/janus-tutorials/blob/main/md.ipynb\" target=\"_parent\"><img src=\"https://colab.research.google.com/assets/colab-badge.svg\" alt=\"Open In Colab\"/></a>"
      ]
    },
    {
      "cell_type": "markdown",
      "metadata": {
        "id": "4vcbRxmIhHLL"
      },
      "source": [
        "# Molecular Dynamics with MLIPs"
      ]
    },
    {
      "cell_type": "markdown",
      "metadata": {},
      "source": [
        "## Setup environment (Optional)"
      ]
    },
    {
      "cell_type": "code",
      "execution_count": null,
      "metadata": {
        "id": "TF-EiWxyuMc7"
      },
      "outputs": [],
      "source": [
        "import locale\n",
        "locale.getpreferredencoding = lambda: \"UTF-8\"\n",
        "!python3 -m pip install -U git+https://github.com/stfc/janus-core.git\n",
        "!python3 -m pip install -U git+https://gitlab.com/ase/ase.git\n",
        "!python3 -m pip install matgl\n",
        "!python3 -m pip install chgnet"
      ]
    },
    {
      "cell_type": "code",
      "execution_count": null,
      "metadata": {
        "id": "cgch8VQ--AES"
      },
      "outputs": [],
      "source": [
        "from ase.visualize import view\n",
        "from ase.build import bulk\n",
        "from ase.io import read\n",
        "import matplotlib.pyplot as plt\n",
        "import numpy as np\n",
        "\n",
        "from janus_core.calculations.single_point import SinglePoint\n",
        "from janus_core.calculations.md import NPH, NPT, NVE, NVT, NVT_NH\n",
        "from janus_core.helpers import post_process\n",
        "from janus_core.helpers.stats import Stats"
      ]
    },
    {
      "cell_type": "markdown",
      "metadata": {},
      "source": [
        "### Cooling"
      ]
    },
    {
      "cell_type": "markdown",
      "metadata": {},
      "source": [
        "Build NaCl structure and attach the MACE calculator:"
      ]
    },
    {
      "cell_type": "code",
      "execution_count": null,
      "metadata": {},
      "outputs": [],
      "source": [
        "NaCl = bulk('NaCl', 'rocksalt', a=5.63, cubic=True)\n",
        "NaCl = NaCl * (2,2,2)"
      ]
    },
    {
      "cell_type": "code",
      "execution_count": null,
      "metadata": {},
      "outputs": [],
      "source": [
        "view(NaCl)"
      ]
    },
    {
      "cell_type": "markdown",
      "metadata": {},
      "source": [
        "Prepare a simulation, cooling the structure from 300K to 200K in stepx of 20K, with 5fs at each temperature:"
      ]
    },
    {
      "cell_type": "code",
      "execution_count": null,
      "metadata": {},
      "outputs": [],
      "source": [
        "sp_NaCl_cooling = SinglePoint(struct=NaCl.copy(),\n",
        "                 architecture=\"mace_mp\",\n",
        "                 device='cpu',\n",
        "                 calc_kwargs={'model_paths':'small','default_dtype':'float64'})\n",
        "\n",
        "cooling = NVT(\n",
        "        struct=sp_NaCl_cooling.struct,\n",
        "        temp_start=300.0,\n",
        "        temp_end=200.0,\n",
        "        temp_step=20,\n",
        "        temp_time=5,\n",
        "        stats_every=2,\n",
        ")"
      ]
    },
    {
      "cell_type": "markdown",
      "metadata": {},
      "source": [
        "Run cooling:"
      ]
    },
    {
      "cell_type": "code",
      "execution_count": null,
      "metadata": {},
      "outputs": [],
      "source": [
        "cooling.run()"
      ]
    },
    {
      "cell_type": "markdown",
      "metadata": {},
      "source": [
        "The final structures at each temperature are saved in `Cl32Na32-nvt-T300.0-final.xyz`, `Cl32Na32-nvt-T280.0-final.xyz`, ..., `Cl32Na32-nvt-T200.0-final.xyz`.\n",
        "\n",
        "The statiscs from the simulation are also saved every 20 steps in `Cl32Na32-nvt-T300.0-T200.0-stats.dat`. This can then be analysed using the `Stats` module:"
      ]
    },
    {
      "cell_type": "code",
      "execution_count": null,
      "metadata": {},
      "outputs": [],
      "source": [
        "data = Stats(\"Cl32Na32-nvt-T300.0-T200.0-stats.dat\")"
      ]
    },
    {
      "cell_type": "code",
      "execution_count": null,
      "metadata": {},
      "outputs": [],
      "source": [
        "print(data)"
      ]
    },
    {
      "cell_type": "code",
      "execution_count": null,
      "metadata": {},
      "outputs": [],
      "source": [
        "plt.plot(data[0], data[5], label=\"Actual\")\n",
        "plt.plot(data[0], data[16], label=\"Target\")\n",
        "plt.legend()\n",
        "plt.xlabel(\"Steps\")\n",
        "plt.ylabel(\"Temperature / K\")\n",
        "plt.show()"
      ]
    },
    {
      "cell_type": "markdown",
      "metadata": {},
      "source": [
        "### Heating, followed by MD"
      ]
    },
    {
      "cell_type": "markdown",
      "metadata": {},
      "source": [
        "This will prepare an NVT MD simulation, initially increasing the temperature from 0K to 300K in 20K steps, with 1fs at each temperature, before a further 10 steps (10fs) at 300K.\n",
        "\n",
        "The final structure at each temperature will be saved, e.g. `Cl32Na32-nvt-T0-final.xyz`, `Cl32Na32-nvt-T0-final.xyz`, ..., `Cl32Na32-nvt-T300-final.xyz.`"
      ]
    },
    {
      "cell_type": "code",
      "execution_count": null,
      "metadata": {},
      "outputs": [],
      "source": [
        "sp_NaCl_md = SinglePoint(struct=NaCl.copy(),\n",
        "                 architecture=\"mace_mp\",\n",
        "                 device='cpu',\n",
        "                 calc_kwargs={'model_paths':'small','default_dtype':'float64'})\n",
        "\n",
        "heating = NVT(\n",
        "        struct=sp_NaCl_md.struct,\n",
        "        temp_start=0, # Start of temperature ramp\n",
        "        temp_end=300.0, # End of temperature ramp\n",
        "        temp_step=20, # Temperature ramp increments\n",
        "        temp_time=1, # Time at each temperature in ramp\n",
        "        temp=300, # MD temperature\n",
        "        steps=10, # MD steps at 300K\n",
        ")"
      ]
    },
    {
      "cell_type": "code",
      "execution_count": null,
      "metadata": {},
      "outputs": [],
      "source": [
        "heating.run()"
      ]
    },
    {
      "cell_type": "markdown",
      "metadata": {},
      "source": [
        "The same structure can then be used to run an additional NVE MD similation for 50 steps (50fs), with post-processing performed to compute the RDF by setting `post_process_kwargs = {\"rdf_compute\": True}`, with the results saved to `Cl32Na32-nve-rdf.dat`:"
      ]
    },
    {
      "cell_type": "code",
      "execution_count": null,
      "metadata": {},
      "outputs": [],
      "source": [
        "md = NVE(\n",
        "        struct=sp_NaCl_md.struct,\n",
        "        temp=300,\n",
        "        stats_every=5,\n",
        "        steps=50,\n",
        "        post_process_kwargs={\"rdf_compute\": True, \"rdf_rmax\": 5, \"rdf_bins\": 200},\n",
        ")"
      ]
    },
    {
      "cell_type": "code",
      "execution_count": null,
      "metadata": {},
      "outputs": [],
      "source": [
        "md.run()"
      ]
    },
    {
      "cell_type": "code",
      "execution_count": null,
      "metadata": {},
      "outputs": [],
      "source": [
        "rdf = np.loadtxt(\"Cl32Na32-nve-rdf.dat\")\n",
        "bins, counts = zip(*rdf)"
      ]
    },
    {
      "cell_type": "code",
      "execution_count": null,
      "metadata": {},
      "outputs": [],
      "source": [
        "plt.plot(bins, counts)\n",
        "plt.ylabel(\"RDF\")\n",
        "plt.xlabel(\"Distance / Å\")\n",
        "plt.show()"
      ]
    },
    {
      "cell_type": "markdown",
      "metadata": {},
      "source": [
        "The same post-processing can also be performed separately after completing the simulation:"
      ]
    },
    {
      "cell_type": "code",
      "execution_count": null,
      "metadata": {},
      "outputs": [],
      "source": [
        "data = read(\"precomputed_NaCl-traj.xyz\", index=\":\")"
      ]
    },
    {
      "cell_type": "code",
      "execution_count": null,
      "metadata": {},
      "outputs": [],
      "source": [
        "rdf = post_process.compute_rdf(data, rmax=5.0, nbins=200)"
      ]
    },
    {
      "cell_type": "code",
      "execution_count": null,
      "metadata": {},
      "outputs": [],
      "source": [
        "plt.plot(rdf[0], rdf[1])\n",
        "plt.ylabel(\"RDF\")\n",
        "plt.xlabel(\"Distance / Å\")\n",
        "plt.show()"
      ]
    }
  ],
  "metadata": {
    "accelerator": "GPU",
    "colab": {
      "authorship_tag": "ABX9TyNvtIsPHVgkt0NvUv51T6ZG",
      "gpuType": "T4",
      "include_colab_link": true,
      "private_outputs": true,
      "provenance": []
    },
    "kernelspec": {
      "display_name": "Python 3",
      "name": "python3"
    },
    "language_info": {
      "codemirror_mode": {
        "name": "ipython",
        "version": 3
      },
      "file_extension": ".py",
      "mimetype": "text/x-python",
      "name": "python",
      "nbconvert_exporter": "python",
      "pygments_lexer": "ipython3",
      "version": "3.11.9"
    }
  },
  "nbformat": 4,
  "nbformat_minor": 0
}
