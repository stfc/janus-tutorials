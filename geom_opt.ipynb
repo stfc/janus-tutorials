{
  "cells": [
    {
      "cell_type": "markdown",
      "metadata": {
        "colab_type": "text",
        "id": "view-in-github"
      },
      "source": [
        "<a href=\"https://colab.research.google.com/github/stfc/janus-tutorials/blob/main/geom_opt.ipynb\" target=\"_parent\"><img src=\"https://colab.research.google.com/assets/colab-badge.svg\" alt=\"Open In Colab\"/></a>"
      ]
    },
    {
      "cell_type": "markdown",
      "metadata": {
        "id": "4vcbRxmIhHLL"
      },
      "source": [
        "# Geometry Optimization with machine learnt interatomic potentials"
      ]
    },
    {
      "cell_type": "markdown",
      "metadata": {},
      "source": [
        "### Setup environment (optional)"
      ]
    },
    {
      "cell_type": "code",
      "execution_count": null,
      "metadata": {
        "id": "TF-EiWxyuMc7"
      },
      "outputs": [],
      "source": [
        "import locale\n",
        "locale.getpreferredencoding = lambda: \"UTF-8\"\n",
        "!python3 -m pip install janus-core\n",
        "!python3 -m pip install matgl\n",
        "!python3 -m pip install chgnet\n",
        "!python3 -m pip uninstall numpy -y\n",
        "!python3 -m pip install numpy==1.25.2 # Colab compatibility"
      ]
    },
    {
      "cell_type": "code",
      "execution_count": null,
      "metadata": {},
      "outputs": [],
      "source": [
        "from ase.io import read\n",
        "from ase.visualize import view\n",
        "\n",
        "from janus_core.calculations.single_point import SinglePoint\n",
        "from janus_core.calculations.geom_opt import optimize"
      ]
    },
    {
      "cell_type": "markdown",
      "metadata": {},
      "source": [
        "### Prepare for optimization of a deformed salt structure"
      ]
    },
    {
      "cell_type": "code",
      "execution_count": null,
      "metadata": {},
      "outputs": [],
      "source": [
        "NaCl = read(\"data/NaCl-deformed.cif\")"
      ]
    },
    {
      "cell_type": "code",
      "execution_count": null,
      "metadata": {},
      "outputs": [],
      "source": [
        "view(NaCl)"
      ]
    },
    {
      "cell_type": "code",
      "execution_count": null,
      "metadata": {},
      "outputs": [],
      "source": [
        "sp_mace = SinglePoint(\n",
        "    struct=NaCl.copy(),\n",
        "    architecture=\"mace_mp\",\n",
        "    device='cpu',\n",
        "    calc_kwargs={'model_paths':'small','default_dtype':'float64'}\n",
        ")\n",
        "\n",
        "init_energy = sp_mace.run(\"energy\")[\"energy\"]"
      ]
    },
    {
      "cell_type": "markdown",
      "metadata": {},
      "source": [
        "To optimize only the atomic positions and not the cell, set `filter_func = None`:"
      ]
    },
    {
      "cell_type": "code",
      "execution_count": null,
      "metadata": {},
      "outputs": [],
      "source": [
        "optimized_NaCl = optimize(\n",
        "    struct=sp_mace.struct,\n",
        "    fmax=0.001,\n",
        "    filter_func=None,\n",
        ")"
      ]
    },
    {
      "cell_type": "code",
      "execution_count": null,
      "metadata": {},
      "outputs": [],
      "source": [
        "view(optimized_NaCl)"
      ]
    },
    {
      "cell_type": "markdown",
      "metadata": {},
      "source": [
        "Check energy has been lowered, and cell is unchanged:"
      ]
    },
    {
      "cell_type": "code",
      "execution_count": null,
      "metadata": {},
      "outputs": [],
      "source": [
        "print(f\"Initial cell: {NaCl.cell.cellpar()}\")\n",
        "print(f\"Initial energy: {init_energy}\")\n",
        "\n",
        "print(f\"Final cell: {optimized_NaCl.cell.cellpar()}\")\n",
        "print(f\"Final energy: {optimized_NaCl.get_potential_energy()}\")"
      ]
    },
    {
      "cell_type": "markdown",
      "metadata": {},
      "source": [
        "### Optimizing cell vectors and atomic positions"
      ]
    },
    {
      "cell_type": "markdown",
      "metadata": {},
      "source": [
        "Setting `filter_kwargs = {\"hydrostatic_strain\": True}` allows the cell lengths to be changed, in addition to atomic positions, but cell angles remain fixed:"
      ]
    },
    {
      "cell_type": "code",
      "execution_count": null,
      "metadata": {},
      "outputs": [],
      "source": [
        "sp_mace_lengths = SinglePoint(\n",
        "    struct=NaCl.copy(),\n",
        "    architecture=\"mace_mp\",\n",
        "    device='cpu',\n",
        "    calc_kwargs={'model_paths':'small','default_dtype':'float64'}\n",
        ")\n",
        "\n",
        "optimized_NaCl_lengths = optimize(\n",
        "    struct=sp_mace_lengths.struct,\n",
        "    fmax=0.001,\n",
        "    filter_kwargs={\"hydrostatic_strain\": True},\n",
        ")"
      ]
    },
    {
      "cell_type": "markdown",
      "metadata": {},
      "source": [
        "Check energy has been lowered, and cell lengths have been updated, but angles remain unchanged:"
      ]
    },
    {
      "cell_type": "code",
      "execution_count": null,
      "metadata": {},
      "outputs": [],
      "source": [
        "print(f\"Initial cell: {NaCl.cell.cellpar()}\")\n",
        "print(f\"Initial energy: {init_energy}\")\n",
        "\n",
        "print(f\"Final cell: {optimized_NaCl_lengths.cell.cellpar()}\")\n",
        "print(f\"Final energy: {optimized_NaCl_lengths.get_potential_energy()}\")"
      ]
    },
    {
      "cell_type": "markdown",
      "metadata": {},
      "source": [
        "### Optimizing at constant pressure and volume"
      ]
    },
    {
      "cell_type": "markdown",
      "metadata": {},
      "source": [
        "Calculations can also be run at a fixed pressure and volume, by setting `filter_kwargs = {\"scalar_pressure\": x, \"constant_volume\": True}`\n",
        "\n",
        "By default, both the cell lengths and angles will be optimized, in addition to the atomic positions.\n",
        "\n",
        "We can also set the optimizer function and filter function used, either by passing the function itself (e.g. `FIRE`) or passing the name of the ASE function (e.g. `\"ExpCellFilter\"`):"
      ]
    },
    {
      "cell_type": "code",
      "execution_count": null,
      "metadata": {},
      "outputs": [],
      "source": [
        "from ase.optimize import FIRE\n",
        "\n",
        "sp_mace_pressure = SinglePoint(\n",
        "    struct=NaCl.copy(),\n",
        "    architecture=\"mace_mp\",\n",
        "    device='cpu',\n",
        "    calc_kwargs={'model_paths':'small','default_dtype':'float64'}\n",
        ")\n",
        "\n",
        "optimized_NaCl_pressure = optimize(\n",
        "    struct=sp_mace_pressure.struct,\n",
        "    fmax=0.01,\n",
        "    filter_kwargs={\"scalar_pressure\": 0.05, \"constant_volume\": True},\n",
        "    optimizer=FIRE,\n",
        "    filter_func=\"ExpCellFilter\",\n",
        ")"
      ]
    },
    {
      "cell_type": "markdown",
      "metadata": {},
      "source": [
        "Check cell lengths and angles have both been updated:"
      ]
    },
    {
      "cell_type": "code",
      "execution_count": null,
      "metadata": {},
      "outputs": [],
      "source": [
        "print(f\"Initial cell: {NaCl.cell.cellpar()}\")\n",
        "print(f\"Initial energy: {init_energy}\")\n",
        "\n",
        "print(f\"Final cell: {optimized_NaCl_pressure.cell.cellpar()}\")\n",
        "print(f\"Final energy: {optimized_NaCl_pressure.get_potential_energy()}\")"
      ]
    },
    {
      "cell_type": "markdown",
      "metadata": {},
      "source": [
        "## Comparing MACE to CHGNet and M3GNet"
      ]
    },
    {
      "cell_type": "code",
      "execution_count": null,
      "metadata": {},
      "outputs": [],
      "source": [
        "sp_mace = SinglePoint(\n",
        "    struct=NaCl.copy(),\n",
        "    architecture=\"mace_mp\",\n",
        "    device='cpu',\n",
        "    calc_kwargs={'model_paths':'small','default_dtype':'float64'}\n",
        ")\n",
        "\n",
        "optimized_NaCl_mace = optimize(\n",
        "    struct=sp_mace.struct,\n",
        "    fmax=0.01,\n",
        ")\n",
        "\n",
        "sp_chgnet = SinglePoint(\n",
        "    struct=NaCl.copy(),\n",
        "    architecture=\"chgnet\",\n",
        "    device=\"cpu\"\n",
        ")\n",
        "\n",
        "\n",
        "optimized_NaCl_chgnet = optimize(\n",
        "    struct=sp_chgnet.struct,\n",
        "    fmax=0.01,\n",
        ")\n",
        "\n",
        "sp_m3gnet = SinglePoint(\n",
        "    struct=NaCl.copy(),\n",
        "    architecture=\"m3gnet\",\n",
        "    device=\"cpu\"\n",
        ")\n",
        "\n",
        "\n",
        "optimized_NaCl_m3gnet = optimize(\n",
        "    struct=sp_m3gnet.struct,\n",
        "    fmax=0.01,\n",
        ")"
      ]
    },
    {
      "cell_type": "code",
      "execution_count": null,
      "metadata": {},
      "outputs": [],
      "source": [
        "print(f\"Initial energy: {init_energy}\")\n",
        "\n",
        "\n",
        "print(f\"Final energy (MACE): {optimized_NaCl_mace.get_potential_energy()}\")\n",
        "print(f\"Final energy (CHGNET): {optimized_NaCl_chgnet.get_potential_energy()}\")\n",
        "print(f\"Final energy (M3GNET): {optimized_NaCl_m3gnet.get_potential_energy()}\")"
      ]
    }
  ],
  "metadata": {
    "accelerator": "GPU",
    "colab": {
      "authorship_tag": "ABX9TyNvtIsPHVgkt0NvUv51T6ZG",
      "gpuType": "T4",
      "include_colab_link": true,
      "private_outputs": true,
      "provenance": []
    },
    "kernelspec": {
      "display_name": "Python 3",
      "name": "python3"
    },
    "language_info": {
      "codemirror_mode": {
        "name": "ipython",
        "version": 3
      },
      "file_extension": ".py",
      "mimetype": "text/x-python",
      "name": "python",
      "nbconvert_exporter": "python",
      "pygments_lexer": "ipython3",
      "version": "3.11.9"
    }
  },
  "nbformat": 4,
  "nbformat_minor": 0
}
