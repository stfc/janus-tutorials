{
  "cells": [
    {
      "cell_type": "markdown",
      "metadata": {
        "colab_type": "text",
        "id": "view-in-github"
      },
      "source": [
        "<a href=\"https://colab.research.google.com/github/stfc/janus-tutorials/blob/main/phonons.ipynb\" target=\"_parent\"><img src=\"https://colab.research.google.com/assets/colab-badge.svg\" alt=\"Open In Colab\"/></a>"
      ]
    },
    {
      "cell_type": "markdown",
      "metadata": {
        "id": "4vcbRxmIhHLL"
      },
      "source": [
        "# Phonon calculations with machine learnt interatomic potentials"
      ]
    },
    {
      "cell_type": "markdown",
      "metadata": {},
      "source": [
        "### Setup environment (optional)"
      ]
    },
    {
      "cell_type": "code",
      "execution_count": null,
      "metadata": {
        "id": "TF-EiWxyuMc7"
      },
      "outputs": [],
      "source": [
        "import locale\n",
        "locale.getpreferredencoding = lambda: \"UTF-8\"\n",
        "!python3 -m pip install janus-core\n",
        "!python3 -m pip install matgl\n",
        "!python3 -m pip install chgnet\n",
        "!python3 -m pip uninstall numpy -y\n",
        "!python3 -m pip install numpy==1.25.2 # Colab compatibility"
      ]
    },
    {
      "cell_type": "markdown",
      "metadata": {
        "id": "857K7R9Cenca"
      },
      "source": [
        "## Phonons (periodic)"
      ]
    },
    {
      "cell_type": "code",
      "execution_count": null,
      "metadata": {},
      "outputs": [],
      "source": [
        "from ase.build import bulk\n",
        "\n",
        "from janus_core.calculations.single_point import SinglePoint\n",
        "from janus_core.calculations.phonons import Phonons"
      ]
    },
    {
      "cell_type": "markdown",
      "metadata": {},
      "source": [
        "### Prepare for phonon calculations on salt "
      ]
    },
    {
      "cell_type": "code",
      "execution_count": null,
      "metadata": {},
      "outputs": [],
      "source": [
        "NaCl = bulk('NaCl', 'rocksalt', a=5.63, cubic=True)"
      ]
    },
    {
      "cell_type": "code",
      "execution_count": null,
      "metadata": {},
      "outputs": [],
      "source": [
        "sp_mace = SinglePoint(\n",
        "    struct=NaCl.copy(),\n",
        "    architecture=\"mace_mp\",\n",
        "    device='cpu',\n",
        "    calc_kwargs={'model_paths':'small','default_dtype':'float64'}\n",
        ")"
      ]
    },
    {
      "cell_type": "markdown",
      "metadata": {},
      "source": [
        "Note: Set `filter_func = None` for geometry optimization via `minimize_kwargs`, so cell is fixed"
      ]
    },
    {
      "cell_type": "code",
      "execution_count": null,
      "metadata": {},
      "outputs": [],
      "source": [
        "phonons_mace = Phonons(\n",
        "    struct=sp_mace.struct,\n",
        "    supercell=[2, 2, 2],\n",
        "    displacement=0.01,\n",
        "    t_step=10.0,\n",
        "    t_min=0.0,\n",
        "    t_max=1000.0,\n",
        "    minimize=True,\n",
        "    hdf5=True,\n",
        "    plot_to_file=True,\n",
        "    symmetrize=False,\n",
        "    write_full=True,\n",
        "    minimize_kwargs={\"filter_func\": None},\n",
        ")"
      ]
    },
    {
      "cell_type": "markdown",
      "metadata": {},
      "source": [
        "Optimize structure and calculate force constants using phonopy.\n",
        "\n",
        "This will save phonopy to `Cl4Na4-phonopy.yml`, and additionally save force constants to `Cl4Na4-force_constants.hdf5`:"
      ]
    },
    {
      "cell_type": "code",
      "execution_count": null,
      "metadata": {},
      "outputs": [],
      "source": [
        "phonons_mace.calc_force_constants()"
      ]
    },
    {
      "cell_type": "markdown",
      "metadata": {},
      "source": [
        "Check cell parameters have not been changed by optimization:"
      ]
    },
    {
      "cell_type": "code",
      "execution_count": null,
      "metadata": {},
      "outputs": [],
      "source": [
        "print(phonons_mace.struct.cell.cellpar())"
      ]
    },
    {
      "cell_type": "markdown",
      "metadata": {},
      "source": [
        "Calculate and plot band structure, writing results to `Cl4Na4-auto_bands.yml`, and saving the figure as `Cl4Na4-auto_bands.svg`:"
      ]
    },
    {
      "cell_type": "code",
      "execution_count": null,
      "metadata": {},
      "outputs": [],
      "source": [
        "phonons_mace.calc_bands(write_results=True)"
      ]
    },
    {
      "cell_type": "markdown",
      "metadata": {},
      "source": [
        "Calculate thermal properties, saving the heat capacity, enthalpy, and entropy, to `Cl4Na4-thermal.dat`:"
      ]
    },
    {
      "cell_type": "code",
      "execution_count": null,
      "metadata": {},
      "outputs": [],
      "source": [
        "phonons_mace.calc_thermal_props()"
      ]
    },
    {
      "cell_type": "markdown",
      "metadata": {},
      "source": [
        "### Phonon calcualtions with optimization of cell"
      ]
    },
    {
      "cell_type": "markdown",
      "metadata": {},
      "source": [
        "The same calculations can be run with cell lengths, but not angles, optimized:"
      ]
    },
    {
      "cell_type": "code",
      "execution_count": null,
      "metadata": {},
      "outputs": [],
      "source": [
        "sp_mace_lengths_only = SinglePoint(\n",
        "    struct=NaCl.copy(),\n",
        "    architecture=\"mace_mp\",\n",
        "    device='cpu',\n",
        "    calc_kwargs={'model_paths': 'small', 'default_dtype': 'float64'}\n",
        ")"
      ]
    },
    {
      "cell_type": "markdown",
      "metadata": {},
      "source": [
        "Note: Set `\"filter_kwargs\" = {\"hydrostatic_strain\": True}` for geometry optimization via `minimize_kwargs`, so cell angles are fixed, but lengths can change"
      ]
    },
    {
      "cell_type": "code",
      "execution_count": null,
      "metadata": {},
      "outputs": [],
      "source": [
        "phonons_mace_lengths_only = Phonons(\n",
        "    struct=sp_mace_lengths_only.struct,\n",
        "    supercell=[2, 2, 2],\n",
        "    displacement=0.01,\n",
        "    t_step=10.0,\n",
        "    t_min=0.0,\n",
        "    t_max=1000.0,\n",
        "    minimize=True,\n",
        "    hdf5=True,\n",
        "    plot_to_file=True,\n",
        "    symmetrize=False,\n",
        "    write_full=True,\n",
        "    minimize_kwargs={\"filter_kwargs\": {\"hydrostatic_strain\": True}},\n",
        ")"
      ]
    },
    {
      "cell_type": "code",
      "execution_count": null,
      "metadata": {},
      "outputs": [],
      "source": [
        "phonons_mace_lengths_only.calc_bands(write_results=True)"
      ]
    },
    {
      "cell_type": "markdown",
      "metadata": {},
      "source": [
        "Confirm changes to cell lengths:"
      ]
    },
    {
      "cell_type": "code",
      "execution_count": null,
      "metadata": {},
      "outputs": [],
      "source": [
        "print(phonons_mace_lengths_only.struct.cell.cellpar())"
      ]
    },
    {
      "cell_type": "markdown",
      "metadata": {},
      "source": [
        "### Phonon calculations with pressure"
      ]
    },
    {
      "cell_type": "markdown",
      "metadata": {},
      "source": [
        "Calculations can also be run at a fixed pressure, as well as optmising both the cell lengths and angles"
      ]
    },
    {
      "cell_type": "code",
      "execution_count": null,
      "metadata": {},
      "outputs": [],
      "source": [
        "sp_mace_pressure = SinglePoint(\n",
        "    struct=NaCl.copy(),\n",
        "    architecture=\"mace_mp\",\n",
        "    device='cpu',\n",
        "    calc_kwargs={'model_paths':'small','default_dtype':'float64'}\n",
        ")"
      ]
    },
    {
      "cell_type": "markdown",
      "metadata": {},
      "source": [
        "Note: Set `\"filter_kwargs\" = {\"scalar_pressure\": x}` for geometry optimization via `minimize_kwargs` to set the pressure. Without setting `hydrostatic_strain =  True`, both the cell lengths and angles will be optimized "
      ]
    },
    {
      "cell_type": "code",
      "execution_count": null,
      "metadata": {},
      "outputs": [],
      "source": [
        "phonons_mace_pressure = Phonons(\n",
        "    struct=sp_mace_pressure.struct,\n",
        "    supercell=[2, 2, 2],\n",
        "    displacement=0.01,\n",
        "    t_step=10.0,\n",
        "    t_min=0.0,\n",
        "    t_max=1000.0,\n",
        "    minimize=True,\n",
        "    hdf5=True,\n",
        "    plot_to_file=True,\n",
        "    symmetrize=False,\n",
        "    write_full=True,\n",
        "    minimize_kwargs={\"filter_kwargs\": {\"scalar_pressure\": 0.1}},\n",
        ")"
      ]
    },
    {
      "cell_type": "code",
      "execution_count": null,
      "metadata": {},
      "outputs": [],
      "source": [
        "phonons_mace_pressure.calc_bands(write_results=True)"
      ]
    },
    {
      "cell_type": "markdown",
      "metadata": {},
      "source": [
        "Confirm changes to cell:"
      ]
    },
    {
      "cell_type": "code",
      "execution_count": null,
      "metadata": {},
      "outputs": [],
      "source": [
        "print(phonons_mace_pressure.struct.cell.cellpar())"
      ]
    },
    {
      "cell_type": "markdown",
      "metadata": {},
      "source": [
        "Compare band structures for different optimization options and save to files:"
      ]
    },
    {
      "cell_type": "code",
      "execution_count": null,
      "metadata": {},
      "outputs": [],
      "source": [
        "phonons_mace.write_band_structure(plot_file=\"NaCl_mace.svg\")\n",
        "phonons_mace_lengths_only.write_band_structure(plot_file=\"NaCl_lengths_only.svg\")\n",
        "phonons_mace_pressure.write_band_structure(plot_file=\"NaCl_pressure.svg\")"
      ]
    },
    {
      "cell_type": "markdown",
      "metadata": {},
      "source": [
        "## Comparing the band structure from MACE to CHGNet and M3GNet:"
      ]
    },
    {
      "cell_type": "markdown",
      "metadata": {},
      "source": [
        "### Calculate band structure using CHGNET"
      ]
    },
    {
      "cell_type": "code",
      "execution_count": null,
      "metadata": {},
      "outputs": [],
      "source": [
        "sp_chgnet = SinglePoint(\n",
        "    struct=NaCl.copy(),\n",
        "    architecture=\"chgnet\",\n",
        "    device=\"cpu\"\n",
        ")"
      ]
    },
    {
      "cell_type": "code",
      "execution_count": null,
      "metadata": {},
      "outputs": [],
      "source": [
        "phonons_chgnet = Phonons(\n",
        "    struct=sp_chgnet.struct,\n",
        "    supercell=[2, 2, 2],\n",
        "    displacement=0.01,\n",
        "    t_step=10.0,\n",
        "    t_min=0.0,\n",
        "    t_max=1000.0,\n",
        "    minimize=True,\n",
        "    hdf5=True,\n",
        "    plot_to_file=True,\n",
        "    symmetrize=False,\n",
        "    write_full=True,\n",
        "    minimize_kwargs={\"filter_func\": None},\n",
        ")"
      ]
    },
    {
      "cell_type": "code",
      "execution_count": null,
      "metadata": {},
      "outputs": [],
      "source": [
        "phonons_chgnet.calc_bands(write_results=True)"
      ]
    },
    {
      "cell_type": "markdown",
      "metadata": {},
      "source": [
        "### Calculate band structure using M3GNET"
      ]
    },
    {
      "cell_type": "code",
      "execution_count": null,
      "metadata": {},
      "outputs": [],
      "source": [
        "sp_m3gnet = SinglePoint(\n",
        "    struct=NaCl.copy(),\n",
        "    architecture=\"m3gnet\",\n",
        "    device=\"cpu\"\n",
        ")"
      ]
    },
    {
      "cell_type": "code",
      "execution_count": null,
      "metadata": {},
      "outputs": [],
      "source": [
        "phonons_m3gnet = Phonons(\n",
        "    struct=sp_m3gnet.struct,\n",
        "    supercell=[2, 2, 2],\n",
        "    displacement=0.01,\n",
        "    t_step=10.0,\n",
        "    t_min=0.0,\n",
        "    t_max=1000.0,\n",
        "    minimize=True,\n",
        "    hdf5=True,\n",
        "    plot_to_file=True,\n",
        "    symmetrize=False,\n",
        "    write_full=True,\n",
        "    minimize_kwargs={\"filter_func\": None},\n",
        ")"
      ]
    },
    {
      "cell_type": "code",
      "execution_count": null,
      "metadata": {},
      "outputs": [],
      "source": [
        "phonons_m3gnet.calc_bands(write_results=True)"
      ]
    },
    {
      "cell_type": "markdown",
      "metadata": {},
      "source": [
        "Compare and save plots for each MLIP:"
      ]
    },
    {
      "cell_type": "code",
      "execution_count": null,
      "metadata": {},
      "outputs": [],
      "source": [
        "phonons_mace.write_band_structure(plot_file=\"MACE.svg\")\n",
        "phonons_chgnet.write_band_structure(plot_file=\"chgnet.svg\")\n",
        "phonons_m3gnet.write_band_structure(plot_file=\"m3gnet.svg\")"
      ]
    },
    {
      "cell_type": "markdown",
      "metadata": {},
      "source": [
        "Note: It may be necessary to reset the default PyTorch dtype if different calculators have been set:"
      ]
    },
    {
      "cell_type": "code",
      "execution_count": null,
      "metadata": {},
      "outputs": [],
      "source": [
        "import torch\n",
        "torch.set_default_dtype(torch.float64)\n",
        "\n",
        "phonons_mace.calc_force_constants()"
      ]
    }
  ],
  "metadata": {
    "accelerator": "GPU",
    "colab": {
      "authorship_tag": "ABX9TyNvtIsPHVgkt0NvUv51T6ZG",
      "gpuType": "T4",
      "include_colab_link": true,
      "private_outputs": true,
      "provenance": []
    },
    "kernelspec": {
      "display_name": "Python 3",
      "name": "python3"
    },
    "language_info": {
      "codemirror_mode": {
        "name": "ipython",
        "version": 3
      },
      "file_extension": ".py",
      "mimetype": "text/x-python",
      "name": "python",
      "nbconvert_exporter": "python",
      "pygments_lexer": "ipython3",
      "version": "3.11.9"
    }
  },
  "nbformat": 4,
  "nbformat_minor": 0
}
