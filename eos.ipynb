{
  "cells": [
    {
      "cell_type": "markdown",
      "metadata": {
        "colab_type": "text",
        "id": "view-in-github"
      },
      "source": [
        "<a href=\"https://colab.research.google.com/github/stfc/janus-tutorials/blob/main/eos.ipynb\" target=\"_parent\"><img src=\"https://colab.research.google.com/assets/colab-badge.svg\" alt=\"Open In Colab\"/></a>"
      ]
    },
    {
      "cell_type": "markdown",
      "metadata": {
        "id": "4vcbRxmIhHLL"
      },
      "source": [
        "# Equation of State with MLIPs\n",
        "\n",
        "## Setup environment (Optional)"
      ]
    },
    {
      "cell_type": "code",
      "execution_count": null,
      "metadata": {
        "id": "TF-EiWxyuMc7"
      },
      "outputs": [],
      "source": [
        "import locale\n",
        "locale.getpreferredencoding = lambda: \"UTF-8\"\n",
        "!python3 -m pip install janus-core\n",
        "!python3 -m pip install matgl\n",
        "!python3 -m pip install chgnet\n",
        "!python3 -m pip uninstall numpy -y\n",
        "!python3 -m pip install numpy==1.25.2 # Colab compatibility"
      ]
    },
    {
      "cell_type": "markdown",
      "metadata": {
        "id": "857K7R9Cenca"
      },
      "source": [
        "## Equation of State"
      ]
    },
    {
      "cell_type": "code",
      "execution_count": null,
      "metadata": {
        "id": "cgch8VQ--AES"
      },
      "outputs": [],
      "source": [
        "from ase import Atoms\n",
        "from ase.io import read\n",
        "from ase.visualize import view\n",
        "\n",
        "from janus_core.calculations.single_point import SinglePoint\n",
        "from janus_core.calculations.eos import calc_eos"
      ]
    },
    {
      "cell_type": "markdown",
      "metadata": {},
      "source": [
        "### Equation of state for α-quartz"
      ]
    },
    {
      "cell_type": "markdown",
      "metadata": {},
      "source": [
        "Build the structure:"
      ]
    },
    {
      "cell_type": "code",
      "execution_count": null,
      "metadata": {},
      "outputs": [],
      "source": [
        "α_quartz = Atoms(symbols=(*[\"Si\"]*3, *[\"O\"]*6),\n",
        "                     scaled_positions=[[0.469700, 0.000000, 0.000000],\n",
        "                                       [0.000000, 0.469700, 0.666667],\n",
        "                                       [0.530300, 0.530300, 0.333333],\n",
        "\n",
        "                                       [0.413500, 0.266900, 0.119100],\n",
        "                                       [0.266900, 0.413500, 0.547567],\n",
        "                                       [0.733100, 0.146600, 0.785767],\n",
        "\n",
        "                                       [0.586500, 0.853400, 0.214233],\n",
        "                                       [0.853400, 0.586500, 0.452433],\n",
        "                                       [0.146600, 0.733100, 0.880900]],\n",
        "\n",
        "                     cell=[[4.916000, 0.000000, 0.000000],\n",
        "                           [-2.45800, 4.257381, 0.000000],\n",
        "                           [0.000000, 0.000000, 5.405400]],\n",
        "                     pbc=True,\n",
        "                     )\n",
        "\n",
        "view(α_quartz)"
      ]
    },
    {
      "cell_type": "markdown",
      "metadata": {},
      "source": [
        "Calculate the equation of state using the MACE-MP potential:"
      ]
    },
    {
      "cell_type": "code",
      "execution_count": null,
      "metadata": {},
      "outputs": [],
      "source": [
        "sp = SinglePoint(struct=α_quartz,\n",
        "                 architecture=\"mace_mp\",\n",
        "                 device='cpu',\n",
        "                 calc_kwargs={'model_paths':'small','default_dtype':'float64'})\n",
        "\n",
        "mace_eos = calc_eos(\n",
        "    sp.struct,\n",
        "    minimize_kwargs={\"filter_func\": None},\n",
        "    min_volume=0.75,\n",
        "    max_volume=1.25,\n",
        "    n_volumes=20,\n",
        ")"
      ]
    },
    {
      "cell_type": "code",
      "execution_count": null,
      "metadata": {},
      "outputs": [],
      "source": [
        "mace_eos[\"eos\"].plot(show=True)"
      ]
    },
    {
      "cell_type": "markdown",
      "metadata": {},
      "source": [
        "### Equation of state for β-quartz"
      ]
    },
    {
      "cell_type": "markdown",
      "metadata": {},
      "source": [
        "Perform the same calculation for β-quartz:"
      ]
    },
    {
      "cell_type": "code",
      "execution_count": null,
      "metadata": {},
      "outputs": [],
      "source": [
        "β_quartz = read(\"data/beta_quartz.cif\")\n",
        "view(β_quartz)"
      ]
    },
    {
      "cell_type": "code",
      "execution_count": null,
      "metadata": {},
      "outputs": [],
      "source": [
        "sp_beta = SinglePoint(struct=β_quartz,\n",
        "                 architecture=\"mace_mp\",\n",
        "                 device='cpu',\n",
        "                 calc_kwargs={'model_paths':'small','default_dtype':'float64'})\n",
        "\n",
        "mace_eos_beta = calc_eos(\n",
        "    sp_beta.struct,\n",
        "    minimize_kwargs={\"filter_func\": None},\n",
        "    min_volume=0.75,\n",
        "    max_volume=1.25,\n",
        "    n_volumes=20,\n",
        ")"
      ]
    },
    {
      "cell_type": "code",
      "execution_count": null,
      "metadata": {},
      "outputs": [],
      "source": [
        "mace_eos_beta[\"eos\"].plot(show=True)"
      ]
    },
    {
      "cell_type": "markdown",
      "metadata": {},
      "source": [
        "Combining plots for α-quartz and β-quartz:"
      ]
    },
    {
      "cell_type": "code",
      "execution_count": null,
      "metadata": {},
      "outputs": [],
      "source": [
        "import matplotlib.pyplot as plt\n",
        "\n",
        "ax = plt.gca()\n",
        "\n",
        "data_alpha = mace_eos[\"eos\"].getplotdata()\n",
        "data_beta = mace_eos_beta[\"eos\"].getplotdata()\n",
        "\n",
        "ax.plot(data_alpha[4], data_alpha[5], ls='-', color='C3', label=\"α-quartz\")\n",
        "ax.plot(data_alpha[6], data_alpha[7], ls='', marker='x', color='C4', mfc='C4')\n",
        "\n",
        "ax.plot(data_beta[4], data_beta[5], ls='-', color='C0', label=\"β-quartz\")\n",
        "ax.plot(data_beta[6], data_beta[7], ls='', marker='x', color='C2', mfc='C2')\n",
        "\n",
        "ax.set_xlabel('volume [Å$^3$]')\n",
        "ax.set_ylabel('energy [eV]')\n",
        "ax.legend()\n",
        "\n",
        "plt.show()"
      ]
    },
    {
      "cell_type": "markdown",
      "metadata": {},
      "source": [
        "### Comparing MACE to CHGNET and MGNET"
      ]
    },
    {
      "cell_type": "code",
      "execution_count": null,
      "metadata": {},
      "outputs": [],
      "source": [
        "sp = SinglePoint(struct=α_quartz,\n",
        "                 architecture=\"m3gnet\",\n",
        "                 device=\"cpu\")\n",
        "\n",
        "m3gnet_eos = calc_eos(sp.struct, minimize_kwargs={\"filter_func\": None})\n",
        "m3gnet_eos[\"eos\"].plot(show=True)"
      ]
    },
    {
      "cell_type": "code",
      "execution_count": null,
      "metadata": {},
      "outputs": [],
      "source": [
        "sp = SinglePoint(struct=α_quartz,\n",
        "                 architecture=\"chgnet\",\n",
        "                 device=\"cpu\")\n",
        "\n",
        "chgnet_eos = calc_eos(sp.struct, minimize_kwargs={\"filter_func\": None})\n",
        "chgnet_eos[\"eos\"].plot(show=True)"
      ]
    },
    {
      "cell_type": "code",
      "execution_count": null,
      "metadata": {},
      "outputs": [],
      "source": [
        "print(f\"MACE energy [eV]: {mace_eos['e_0']}\")\n",
        "print(f\"M3GNET energy [eV]: {m3gnet_eos['e_0']}\")\n",
        "print(f\"CHGNET energy [eV]: {chgnet_eos['e_0']}\")\n",
        "\n",
        "print()\n",
        "\n",
        "print(f\"MACE volume [Å^3]: {mace_eos['v_0']}\")\n",
        "print(f\"M3GNET volume [Å^3]: {m3gnet_eos['v_0']}\")\n",
        "print(f\"CHGNET volume [Å^3]: {chgnet_eos['v_0']}\")\n",
        "\n",
        "print()\n",
        "\n",
        "print(f\"MACE bulk_modulus [GPa]: {mace_eos['bulk_modulus']}\")\n",
        "print(f\"M3GNET bulk_modulus [GPa]: {m3gnet_eos['bulk_modulus']}\")\n",
        "print(f\"CHGNET bulk_modulus [GPa]: {chgnet_eos['bulk_modulus']}\")"
      ]
    }
  ],
  "metadata": {
    "accelerator": "GPU",
    "colab": {
      "authorship_tag": "ABX9TyNvtIsPHVgkt0NvUv51T6ZG",
      "gpuType": "T4",
      "include_colab_link": true,
      "private_outputs": true,
      "provenance": []
    },
    "kernelspec": {
      "display_name": "Python 3",
      "name": "python3"
    },
    "language_info": {
      "codemirror_mode": {
        "name": "ipython",
        "version": 3
      },
      "file_extension": ".py",
      "mimetype": "text/x-python",
      "name": "python",
      "nbconvert_exporter": "python",
      "pygments_lexer": "ipython3",
      "version": "3.11.9"
    }
  },
  "nbformat": 4,
  "nbformat_minor": 0
}
