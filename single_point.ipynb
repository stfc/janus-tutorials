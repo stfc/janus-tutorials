{
 "cells": [
  {
   "cell_type": "markdown",
   "metadata": {
    "colab_type": "text",
    "id": "view-in-github"
   },
   "source": [
    "<a href=\"https://colab.research.google.com/github/stfc/janus-tutorials/blob/main/single_point.ipynb\" target=\"_parent\"><img src=\"https://colab.research.google.com/assets/colab-badge.svg\" alt=\"Open In Colab\"/></a>"
   ]
  },
  {
   "cell_type": "markdown",
   "metadata": {
    "id": "cF2xy0hZ9w5Z"
   },
   "source": [
    "install dependencies, pay special we use ase 3.23.0"
   ]
  },
  {
   "cell_type": "markdown",
   "metadata": {
    "id": "4vcbRxmIhHLL"
   },
   "source": [
    "# Single point calculations with machine learnt interatomic potentials\n",
    "\n",
    "janus-core contains various machine learnt interatomic potentials(MLIP), mace based (mace_mp, mace_off), chgnet, and matgl based m3gnet. Other will be added as their utility is proven beyond a specific material.\n",
    "\n",
    "## Setup environment (Optional)\n",
    "\n",
    "this step is to be done only if you want to pull latest versions of various component, add your own components of use a generic jupyter environment without dependencies preinstalled. The instructions are for googlecolab but may work on other systems too."
   ]
  },
  {
   "cell_type": "code",
   "execution_count": null,
   "metadata": {
    "id": "TF-EiWxyuMc7"
   },
   "outputs": [],
   "source": [
    "import locale\n",
    "locale.getpreferredencoding = lambda: \"UTF-8\"\n",
    "!python3 -m pip install janus-core\n",
    "!python3 -m pip install matgl\n",
    "!python3 -m pip install chgnet\n",
    "!python3 -m pip uninstall numpy -y\n",
    "!python3 -m pip install numpy==1.25.2 # Colab compatibility"
   ]
  },
  {
   "cell_type": "markdown",
   "metadata": {
    "id": "857K7R9Cenca"
   },
   "source": [
    "## Single point periodic"
   ]
  },
  {
   "cell_type": "code",
   "execution_count": null,
   "metadata": {
    "id": "cgch8VQ--AES"
   },
   "outputs": [],
   "source": [
    "from ase.build import bulk\n",
    "from ase.io import write\n",
    "\n",
    "from janus_core.calculations.single_point import SinglePoint\n",
    "\n",
    "#change to cuda if you have a gpu or mps if on apple m\n",
    "device = \"cpu\"\n",
    "\n",
    "NaCl = bulk('NaCl', 'rocksalt', a=5.63, cubic=True)\n",
    "sp = SinglePoint(struct=NaCl,\n",
    "                 architecture=\"mace_mp\",\n",
    "                 device=device,\n",
    "                 calc_kwargs={'model_paths':'small','default_dtype':'float64'})\n",
    "\n",
    "res_mace = sp.run()\n",
    "\n",
    "NaCl = bulk('NaCl', 'rocksalt', a=5.63, cubic=True)\n",
    "sp = SinglePoint(struct=NaCl,\n",
    "                 architecture=\"m3gnet\",\n",
    "                 device=device)\n",
    "\n",
    "res_chgnet = sp.run()\n",
    "\n",
    "NaCl = bulk('NaCl', 'rocksalt', a=5.63, cubic=True)\n",
    "sp = SinglePoint(struct=NaCl,\n",
    "                 architecture=\"chgnet\",\n",
    "                 device=device)\n",
    "\n",
    "res_m3gnet = sp.run()\n",
    "print(f\"  MACE[eV]: {res_mace['energy']}\")\n",
    "print(f\"M3GNET[eV]: {res_m3gnet['energy']}\")\n",
    "print(f\"CHGNET[eV]: {res_chgnet['energy']}\")\n"
   ]
  },
  {
   "cell_type": "markdown",
   "metadata": {
    "id": "fDt01muwC5fl"
   },
   "source": [
    "## Simple Molecules"
   ]
  },
  {
   "cell_type": "code",
   "execution_count": null,
   "metadata": {
    "id": "cbvNchA4_dEq"
   },
   "outputs": [],
   "source": [
    "from ase.build import molecule\n",
    "from ase.io import write\n",
    "\n",
    "from janus_core.calculations.single_point import SinglePoint\n",
    "\n",
    "sp = SinglePoint(struct=molecule('H2O'),\n",
    "                 architecture=\"mace_off\",\n",
    "                 device=device,\n",
    "                 calc_kwargs={'model_paths':'medium'})\n",
    "\n",
    "res = sp.run()\n",
    "print(res)"
   ]
  },
  {
   "cell_type": "markdown",
   "metadata": {
    "id": "lazs3WCKC3fY"
   },
   "source": [
    "## Sugar on salt"
   ]
  },
  {
   "cell_type": "code",
   "execution_count": null,
   "metadata": {
    "id": "WHHUSn7gCz-l"
   },
   "outputs": [],
   "source": [
    "from ase.build import surface,bulk, add_adsorbate, molecule\n",
    "from ase.visualize import view\n",
    "from ase.io import read,write\n",
    "\n",
    "a = 5.63\n",
    "NaCl = bulk('NaCl', crystalstructure=\"rocksalt\",cubic=True,orthorhombic=True,a=5.63)*(6,6,3)\n",
    "NaCl.center(vacuum=20.0, axis=2)\n",
    "# get it from here https://raw.githubusercontent.com/stfc/janus-tutorials/main/data/sucrose.xyz\n",
    "sugar = read(\"data/sucrose.xyz\")\n",
    "add_adsorbate(slab=NaCl, adsorbate=sugar, height=4.5, position=(10,10))\n",
    "write(\"slab.xyz\",NaCl)\n",
    "sp = SinglePoint(struct_path=\"slab.xyz\",\n",
    "                 architecture=\"mace_mp\",\n",
    "                 device=device,\n",
    "                 calc_kwargs={'model_paths':'small'})\n",
    "res = sp.run()\n",
    "print(res)\n",
    "view(NaCl,viewer='x3d')"
   ]
  },
  {
   "cell_type": "markdown",
   "metadata": {
    "id": "7BDbwfmDE-BO"
   },
   "source": [
    "## Calculate an entire collection of data frames"
   ]
  },
  {
   "cell_type": "code",
   "execution_count": null,
   "metadata": {},
   "outputs": [],
   "source": [
    "from ase.io import read,write\n",
    "import numpy as np\n",
    "import matplotlib.pyplot as plt\n",
    "\n",
    "frames = read(\"data/NaCl-set.xyz\", format=\"extxyz\", index=\":\")\n",
    "dft_energy = np.array([ s.info['dft_energy']/len(s) for s in frames ])\n",
    "\n",
    "sp = SinglePoint(struct_path=\"data/NaCl-set.xyz\",\n",
    "                 architecture=\"mace_mp\",\n",
    "                 device=device,\n",
    "                 calc_kwargs={'model_paths':'small'})\n",
    "sp.run()\n",
    "\n",
    "mace_mp_energy = np.array([ s.info['mace_mp_energy']/len(s) for s in sp.struct ])\n",
    "rmse_mace = np.linalg.norm(mace_mp_energy - dft_energy) / np.sqrt(len(dft_energy))\n",
    "\n",
    "sp = SinglePoint(struct_path=\"data/NaCl-set.xyz\",\n",
    "                 architecture=\"chgnet\",\n",
    "                 device=device)\n",
    "sp.run()\n",
    "\n",
    "chgnet_energy = np.array([ s.info['chgnet_energy']/len(s) for s in sp.struct ])\n",
    "rmse_chgnet = np.linalg.norm(chgnet_energy - dft_energy) / np.sqrt(len(dft_energy))\n",
    "\n",
    "sp = SinglePoint(struct_path=\"data/NaCl-set.xyz\",\n",
    "                 architecture=\"m3gnet\",\n",
    "                 device=device)\n",
    "sp.run()\n",
    "\n",
    "m3gnet_energy = np.array([ s.info['m3gnet_energy']/len(s) for s in sp.struct ])\n",
    "rmse_m3gnet = np.linalg.norm(m3gnet_energy - dft_energy) / np.sqrt(len(dft_energy))\n",
    "\n",
    "print(f\"rmse: mace_mp = {rmse_mace}, chgnet = {rmse_chgnet}, m3gnet = {rmse_m3gnet} eV/atom\")\n",
    "\n",
    "fig, ax = plt.subplots()\n",
    "\n",
    "ax.scatter(dft_energy,mace_mp_energy, marker=\"o\", label=\"mace-mp-0\")\n",
    "ax.scatter(dft_energy, m3gnet_energy, marker=\"x\", label=\"m3gnet\")\n",
    "ax.scatter(dft_energy, chgnet_energy, marker=\"+\", label=\"chgnet\")\n",
    "ax.legend()\n",
    "plt.xlabel(\"MLIP [eV/atom]\")\n",
    "plt.ylabel(\"DFT [eV/atom]\")\n",
    "\n",
    "plt.show()"
   ]
  },
  {
   "cell_type": "code",
   "execution_count": null,
   "metadata": {},
   "outputs": [],
   "source": []
  }
 ],
 "metadata": {
  "accelerator": "GPU",
  "colab": {
   "authorship_tag": "ABX9TyNvtIsPHVgkt0NvUv51T6ZG",
   "gpuType": "T4",
   "include_colab_link": true,
   "private_outputs": true,
   "provenance": []
  },
  "kernelspec": {
   "display_name": "Python 3 (ipykernel)",
   "language": "python",
   "name": "python3"
  },
  "language_info": {
   "codemirror_mode": {
    "name": "ipython",
    "version": 3
   },
   "file_extension": ".py",
   "mimetype": "text/x-python",
   "name": "python",
   "nbconvert_exporter": "python",
   "pygments_lexer": "ipython3",
   "version": "3.9.13"
  }
 },
 "nbformat": 4,
 "nbformat_minor": 4
}
